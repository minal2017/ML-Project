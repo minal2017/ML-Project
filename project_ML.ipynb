{
  "nbformat": 4,
  "nbformat_minor": 0,
  "metadata": {
    "colab": {
      "name": "project_ML",
      "provenance": []
    },
    "kernelspec": {
      "name": "python3",
      "display_name": "Python 3"
    },
    "language_info": {
      "name": "python"
    }
  },
  "cells": [
    {
      "cell_type": "code",
      "metadata": {
        "id": "AZzPKP1GD95f"
      },
      "source": [
        "import numpy as np\n",
        "import pandas as pd\n",
        "import seaborn as sns\n",
        "import matplotlib.pyplot as plt\n",
        "import warnings\n",
        "warnings.filterwarnings(\"ignore\")"
      ],
      "execution_count": null,
      "outputs": []
    },
    {
      "cell_type": "code",
      "metadata": {
        "id": "xtn9F0csLzmk"
      },
      "source": [
        "df=pd.read_csv(\"/content/sample_data/creditcard (2).csv\")"
      ],
      "execution_count": null,
      "outputs": []
    },
    {
      "cell_type": "code",
      "metadata": {
        "colab": {
          "base_uri": "https://localhost:8080/",
          "height": 215
        },
        "id": "WtwsktMjL_Ce",
        "outputId": "02452289-6904-4f2c-f131-d89bee64890a"
      },
      "source": [
        "df.head()"
      ],
      "execution_count": null,
      "outputs": [
        {
          "output_type": "execute_result",
          "data": {
            "text/html": [
              "<div>\n",
              "<style scoped>\n",
              "    .dataframe tbody tr th:only-of-type {\n",
              "        vertical-align: middle;\n",
              "    }\n",
              "\n",
              "    .dataframe tbody tr th {\n",
              "        vertical-align: top;\n",
              "    }\n",
              "\n",
              "    .dataframe thead th {\n",
              "        text-align: right;\n",
              "    }\n",
              "</style>\n",
              "<table border=\"1\" class=\"dataframe\">\n",
              "  <thead>\n",
              "    <tr style=\"text-align: right;\">\n",
              "      <th></th>\n",
              "      <th>Time</th>\n",
              "      <th>V1</th>\n",
              "      <th>V2</th>\n",
              "      <th>V3</th>\n",
              "      <th>V4</th>\n",
              "      <th>V5</th>\n",
              "      <th>V6</th>\n",
              "      <th>V7</th>\n",
              "      <th>V8</th>\n",
              "      <th>V9</th>\n",
              "      <th>V10</th>\n",
              "      <th>V11</th>\n",
              "      <th>V12</th>\n",
              "      <th>V13</th>\n",
              "      <th>V14</th>\n",
              "      <th>V15</th>\n",
              "      <th>V16</th>\n",
              "      <th>V17</th>\n",
              "      <th>V18</th>\n",
              "      <th>V19</th>\n",
              "      <th>V20</th>\n",
              "      <th>V21</th>\n",
              "      <th>V22</th>\n",
              "      <th>V23</th>\n",
              "      <th>V24</th>\n",
              "      <th>V25</th>\n",
              "      <th>V26</th>\n",
              "      <th>V27</th>\n",
              "      <th>V28</th>\n",
              "      <th>Amount</th>\n",
              "      <th>Class</th>\n",
              "    </tr>\n",
              "  </thead>\n",
              "  <tbody>\n",
              "    <tr>\n",
              "      <th>0</th>\n",
              "      <td>0.0</td>\n",
              "      <td>-1.359807</td>\n",
              "      <td>-0.072781</td>\n",
              "      <td>2.536347</td>\n",
              "      <td>1.378155</td>\n",
              "      <td>-0.338321</td>\n",
              "      <td>0.462388</td>\n",
              "      <td>0.239599</td>\n",
              "      <td>0.098698</td>\n",
              "      <td>0.363787</td>\n",
              "      <td>0.090794</td>\n",
              "      <td>-0.551600</td>\n",
              "      <td>-0.617801</td>\n",
              "      <td>-0.991390</td>\n",
              "      <td>-0.311169</td>\n",
              "      <td>1.468177</td>\n",
              "      <td>-0.470401</td>\n",
              "      <td>0.207971</td>\n",
              "      <td>0.025791</td>\n",
              "      <td>0.403993</td>\n",
              "      <td>0.251412</td>\n",
              "      <td>-0.018307</td>\n",
              "      <td>0.277838</td>\n",
              "      <td>-0.110474</td>\n",
              "      <td>0.066928</td>\n",
              "      <td>0.128539</td>\n",
              "      <td>-0.189115</td>\n",
              "      <td>0.133558</td>\n",
              "      <td>-0.021053</td>\n",
              "      <td>149.62</td>\n",
              "      <td>0</td>\n",
              "    </tr>\n",
              "    <tr>\n",
              "      <th>1</th>\n",
              "      <td>0.0</td>\n",
              "      <td>1.191857</td>\n",
              "      <td>0.266151</td>\n",
              "      <td>0.166480</td>\n",
              "      <td>0.448154</td>\n",
              "      <td>0.060018</td>\n",
              "      <td>-0.082361</td>\n",
              "      <td>-0.078803</td>\n",
              "      <td>0.085102</td>\n",
              "      <td>-0.255425</td>\n",
              "      <td>-0.166974</td>\n",
              "      <td>1.612727</td>\n",
              "      <td>1.065235</td>\n",
              "      <td>0.489095</td>\n",
              "      <td>-0.143772</td>\n",
              "      <td>0.635558</td>\n",
              "      <td>0.463917</td>\n",
              "      <td>-0.114805</td>\n",
              "      <td>-0.183361</td>\n",
              "      <td>-0.145783</td>\n",
              "      <td>-0.069083</td>\n",
              "      <td>-0.225775</td>\n",
              "      <td>-0.638672</td>\n",
              "      <td>0.101288</td>\n",
              "      <td>-0.339846</td>\n",
              "      <td>0.167170</td>\n",
              "      <td>0.125895</td>\n",
              "      <td>-0.008983</td>\n",
              "      <td>0.014724</td>\n",
              "      <td>2.69</td>\n",
              "      <td>0</td>\n",
              "    </tr>\n",
              "    <tr>\n",
              "      <th>2</th>\n",
              "      <td>1.0</td>\n",
              "      <td>-1.358354</td>\n",
              "      <td>-1.340163</td>\n",
              "      <td>1.773209</td>\n",
              "      <td>0.379780</td>\n",
              "      <td>-0.503198</td>\n",
              "      <td>1.800499</td>\n",
              "      <td>0.791461</td>\n",
              "      <td>0.247676</td>\n",
              "      <td>-1.514654</td>\n",
              "      <td>0.207643</td>\n",
              "      <td>0.624501</td>\n",
              "      <td>0.066084</td>\n",
              "      <td>0.717293</td>\n",
              "      <td>-0.165946</td>\n",
              "      <td>2.345865</td>\n",
              "      <td>-2.890083</td>\n",
              "      <td>1.109969</td>\n",
              "      <td>-0.121359</td>\n",
              "      <td>-2.261857</td>\n",
              "      <td>0.524980</td>\n",
              "      <td>0.247998</td>\n",
              "      <td>0.771679</td>\n",
              "      <td>0.909412</td>\n",
              "      <td>-0.689281</td>\n",
              "      <td>-0.327642</td>\n",
              "      <td>-0.139097</td>\n",
              "      <td>-0.055353</td>\n",
              "      <td>-0.059752</td>\n",
              "      <td>378.66</td>\n",
              "      <td>0</td>\n",
              "    </tr>\n",
              "    <tr>\n",
              "      <th>3</th>\n",
              "      <td>1.0</td>\n",
              "      <td>-0.966272</td>\n",
              "      <td>-0.185226</td>\n",
              "      <td>1.792993</td>\n",
              "      <td>-0.863291</td>\n",
              "      <td>-0.010309</td>\n",
              "      <td>1.247203</td>\n",
              "      <td>0.237609</td>\n",
              "      <td>0.377436</td>\n",
              "      <td>-1.387024</td>\n",
              "      <td>-0.054952</td>\n",
              "      <td>-0.226487</td>\n",
              "      <td>0.178228</td>\n",
              "      <td>0.507757</td>\n",
              "      <td>-0.287924</td>\n",
              "      <td>-0.631418</td>\n",
              "      <td>-1.059647</td>\n",
              "      <td>-0.684093</td>\n",
              "      <td>1.965775</td>\n",
              "      <td>-1.232622</td>\n",
              "      <td>-0.208038</td>\n",
              "      <td>-0.108300</td>\n",
              "      <td>0.005274</td>\n",
              "      <td>-0.190321</td>\n",
              "      <td>-1.175575</td>\n",
              "      <td>0.647376</td>\n",
              "      <td>-0.221929</td>\n",
              "      <td>0.062723</td>\n",
              "      <td>0.061458</td>\n",
              "      <td>123.50</td>\n",
              "      <td>0</td>\n",
              "    </tr>\n",
              "    <tr>\n",
              "      <th>4</th>\n",
              "      <td>2.0</td>\n",
              "      <td>-1.158233</td>\n",
              "      <td>0.877737</td>\n",
              "      <td>1.548718</td>\n",
              "      <td>0.403034</td>\n",
              "      <td>-0.407193</td>\n",
              "      <td>0.095921</td>\n",
              "      <td>0.592941</td>\n",
              "      <td>-0.270533</td>\n",
              "      <td>0.817739</td>\n",
              "      <td>0.753074</td>\n",
              "      <td>-0.822843</td>\n",
              "      <td>0.538196</td>\n",
              "      <td>1.345852</td>\n",
              "      <td>-1.119670</td>\n",
              "      <td>0.175121</td>\n",
              "      <td>-0.451449</td>\n",
              "      <td>-0.237033</td>\n",
              "      <td>-0.038195</td>\n",
              "      <td>0.803487</td>\n",
              "      <td>0.408542</td>\n",
              "      <td>-0.009431</td>\n",
              "      <td>0.798278</td>\n",
              "      <td>-0.137458</td>\n",
              "      <td>0.141267</td>\n",
              "      <td>-0.206010</td>\n",
              "      <td>0.502292</td>\n",
              "      <td>0.219422</td>\n",
              "      <td>0.215153</td>\n",
              "      <td>69.99</td>\n",
              "      <td>0</td>\n",
              "    </tr>\n",
              "  </tbody>\n",
              "</table>\n",
              "</div>"
            ],
            "text/plain": [
              "   Time        V1        V2        V3  ...       V27       V28  Amount  Class\n",
              "0   0.0 -1.359807 -0.072781  2.536347  ...  0.133558 -0.021053  149.62      0\n",
              "1   0.0  1.191857  0.266151  0.166480  ... -0.008983  0.014724    2.69      0\n",
              "2   1.0 -1.358354 -1.340163  1.773209  ... -0.055353 -0.059752  378.66      0\n",
              "3   1.0 -0.966272 -0.185226  1.792993  ...  0.062723  0.061458  123.50      0\n",
              "4   2.0 -1.158233  0.877737  1.548718  ...  0.219422  0.215153   69.99      0\n",
              "\n",
              "[5 rows x 31 columns]"
            ]
          },
          "metadata": {
            "tags": []
          },
          "execution_count": 3
        }
      ]
    },
    {
      "cell_type": "code",
      "metadata": {
        "colab": {
          "base_uri": "https://localhost:8080/"
        },
        "id": "hGxjCVjBMF-8",
        "outputId": "dbbdc142-1dec-473f-a872-2853d739ab7d"
      },
      "source": [
        "df.shape"
      ],
      "execution_count": null,
      "outputs": [
        {
          "output_type": "execute_result",
          "data": {
            "text/plain": [
              "(284807, 31)"
            ]
          },
          "metadata": {
            "tags": []
          },
          "execution_count": 4
        }
      ]
    },
    {
      "cell_type": "code",
      "metadata": {
        "colab": {
          "base_uri": "https://localhost:8080/"
        },
        "id": "V_rXl5Z0MGAW",
        "outputId": "c3ec6f5e-9d27-4566-d77c-dd2647408f18"
      },
      "source": [
        "df.isnull().sum()"
      ],
      "execution_count": null,
      "outputs": [
        {
          "output_type": "execute_result",
          "data": {
            "text/plain": [
              "Time      0\n",
              "V1        0\n",
              "V2        0\n",
              "V3        0\n",
              "V4        0\n",
              "V5        0\n",
              "V6        0\n",
              "V7        0\n",
              "V8        0\n",
              "V9        0\n",
              "V10       0\n",
              "V11       0\n",
              "V12       0\n",
              "V13       0\n",
              "V14       0\n",
              "V15       0\n",
              "V16       0\n",
              "V17       0\n",
              "V18       0\n",
              "V19       0\n",
              "V20       0\n",
              "V21       0\n",
              "V22       0\n",
              "V23       0\n",
              "V24       0\n",
              "V25       0\n",
              "V26       0\n",
              "V27       0\n",
              "V28       0\n",
              "Amount    0\n",
              "Class     0\n",
              "dtype: int64"
            ]
          },
          "metadata": {
            "tags": []
          },
          "execution_count": 5
        }
      ]
    },
    {
      "cell_type": "code",
      "metadata": {
        "colab": {
          "base_uri": "https://localhost:8080/"
        },
        "id": "MmQZtsfmMGFz",
        "outputId": "9c2e1912-ae84-4387-b553-ebca59ad2201"
      },
      "source": [
        "df.info()"
      ],
      "execution_count": null,
      "outputs": [
        {
          "output_type": "stream",
          "text": [
            "<class 'pandas.core.frame.DataFrame'>\n",
            "RangeIndex: 284807 entries, 0 to 284806\n",
            "Data columns (total 31 columns):\n",
            " #   Column  Non-Null Count   Dtype  \n",
            "---  ------  --------------   -----  \n",
            " 0   Time    284807 non-null  float64\n",
            " 1   V1      284807 non-null  float64\n",
            " 2   V2      284807 non-null  float64\n",
            " 3   V3      284807 non-null  float64\n",
            " 4   V4      284807 non-null  float64\n",
            " 5   V5      284807 non-null  float64\n",
            " 6   V6      284807 non-null  float64\n",
            " 7   V7      284807 non-null  float64\n",
            " 8   V8      284807 non-null  float64\n",
            " 9   V9      284807 non-null  float64\n",
            " 10  V10     284807 non-null  float64\n",
            " 11  V11     284807 non-null  float64\n",
            " 12  V12     284807 non-null  float64\n",
            " 13  V13     284807 non-null  float64\n",
            " 14  V14     284807 non-null  float64\n",
            " 15  V15     284807 non-null  float64\n",
            " 16  V16     284807 non-null  float64\n",
            " 17  V17     284807 non-null  float64\n",
            " 18  V18     284807 non-null  float64\n",
            " 19  V19     284807 non-null  float64\n",
            " 20  V20     284807 non-null  float64\n",
            " 21  V21     284807 non-null  float64\n",
            " 22  V22     284807 non-null  float64\n",
            " 23  V23     284807 non-null  float64\n",
            " 24  V24     284807 non-null  float64\n",
            " 25  V25     284807 non-null  float64\n",
            " 26  V26     284807 non-null  float64\n",
            " 27  V27     284807 non-null  float64\n",
            " 28  V28     284807 non-null  float64\n",
            " 29  Amount  284807 non-null  float64\n",
            " 30  Class   284807 non-null  int64  \n",
            "dtypes: float64(30), int64(1)\n",
            "memory usage: 67.4 MB\n"
          ],
          "name": "stdout"
        }
      ]
    },
    {
      "cell_type": "code",
      "metadata": {
        "colab": {
          "base_uri": "https://localhost:8080/",
          "height": 303
        },
        "id": "op-ZSplIMGHH",
        "outputId": "bf71d1c9-93fd-4065-9874-f6f1600cadcb"
      },
      "source": [
        "#visualize null value\n",
        "sns.heatmap(df.isnull())"
      ],
      "execution_count": null,
      "outputs": [
        {
          "output_type": "execute_result",
          "data": {
            "text/plain": [
              "<matplotlib.axes._subplots.AxesSubplot at 0x7f7d90abb850>"
            ]
          },
          "metadata": {
            "tags": []
          },
          "execution_count": 7
        },
        {
          "output_type": "display_data",
          "data": {
            "image/png": "[encoded data removed]",
            "text/plain": [
              "<Figure size 432x288 with 2 Axes>"
            ]
          },
          "metadata": {
            "tags": [],
            "needs_background": "light"
          }
        }
      ]
    },
    {
      "cell_type": "code",
      "metadata": {
        "colab": {
          "base_uri": "https://localhost:8080/",
          "height": 279
        },
        "id": "QjqhAk8JMGK2",
        "outputId": "dfe6f40f-7312-4ce4-ab87-35fc50e517d0"
      },
      "source": [
        "#visualize traget to find how to balance data\n",
        "sns.countplot(data=df,x=\"Class\")\n",
        "c=df[\"Class\"].value_counts()\n",
        "plt.yticks(c)\n",
        "plt.show()"
      ],
      "execution_count": null,
      "outputs": [
        {
          "output_type": "display_data",
          "data": {
            "image/png": "[encoded data removed]",
            "text/plain": [
              "<Figure size 432x288 with 1 Axes>"
            ]
          },
          "metadata": {
            "tags": [],
            "needs_background": "light"
          }
        }
      ]
    },
    {
      "cell_type": "code",
      "metadata": {
        "id": "5Iky4tlXMGMf"
      },
      "source": [
        "def create_model(model):\n",
        "  model.fit(X_train,Y_train)\n",
        "  Y_pred=model.predict(X_test)\n",
        "  print(classification_report(Y_pred,Y_test))\n",
        "  print(confusion_matrix(Y_pred,Y_test))\n",
        "  return model"
      ],
      "execution_count": null,
      "outputs": []
    },
    {
      "cell_type": "code",
      "metadata": {
        "id": "7tTFfpLcOS4X"
      },
      "source": [
        "X=df.drop(\"Class\",axis=1)\n",
        "Y=df[\"Class\"]"
      ],
      "execution_count": null,
      "outputs": []
    },
    {
      "cell_type": "code",
      "metadata": {
        "id": "iGkazGbyOCVB"
      },
      "source": [
        "from sklearn.model_selection import train_test_split"
      ],
      "execution_count": null,
      "outputs": []
    },
    {
      "cell_type": "code",
      "metadata": {
        "id": "OI1c5wQtOCZG"
      },
      "source": [
        "X_train,X_test,Y_train,Y_test=train_test_split(X,Y,test_size=0.3,random_state=1)"
      ],
      "execution_count": null,
      "outputs": []
    },
    {
      "cell_type": "code",
      "metadata": {
        "id": "E4hxEaLDOCe2"
      },
      "source": [
        "from sklearn.linear_model import LogisticRegression"
      ],
      "execution_count": null,
      "outputs": []
    },
    {
      "cell_type": "code",
      "metadata": {
        "id": "D4Gfh0-NPD7s"
      },
      "source": [
        "from sklearn.metrics import classification_report\n",
        "from sklearn.metrics import confusion_matrix"
      ],
      "execution_count": null,
      "outputs": []
    },
    {
      "cell_type": "code",
      "metadata": {
        "id": "kYg8LAe6OChD"
      },
      "source": [
        "lr=LogisticRegression()"
      ],
      "execution_count": null,
      "outputs": []
    },
    {
      "cell_type": "code",
      "metadata": {
        "colab": {
          "base_uri": "https://localhost:8080/"
        },
        "id": "zdZLy-v7OCjz",
        "outputId": "73dd2d81-5450-47f9-a8f1-80bd3d39419d"
      },
      "source": [
        "lr=create_model(lr)"
      ],
      "execution_count": null,
      "outputs": [
        {
          "output_type": "stream",
          "text": [
            "              precision    recall  f1-score   support\n",
            "\n",
            "           0       1.00      1.00      1.00     85321\n",
            "           1       0.63      0.70      0.66       122\n",
            "\n",
            "    accuracy                           1.00     85443\n",
            "   macro avg       0.81      0.85      0.83     85443\n",
            "weighted avg       1.00      1.00      1.00     85443\n",
            "\n",
            "[[85271    50]\n",
            " [   37    85]]\n"
          ],
          "name": "stdout"
        }
      ]
    },
    {
      "cell_type": "code",
      "metadata": {
        "id": "ZgiP4WGUL_NS"
      },
      "source": [
        "from imblearn.under_sampling import RandomUnderSampler\n",
        "from imblearn.over_sampling import  RandomOverSampler"
      ],
      "execution_count": null,
      "outputs": []
    },
    {
      "cell_type": "code",
      "metadata": {
        "id": "EylERz-DQUJr"
      },
      "source": [
        "ros=RandomUnderSampler()"
      ],
      "execution_count": null,
      "outputs": []
    },
    {
      "cell_type": "code",
      "metadata": {
        "id": "b9jSrE0DQUNs"
      },
      "source": [
        "X_sample1,Y_sample1=ros.fit_resample(X_train,Y_train)"
      ],
      "execution_count": null,
      "outputs": []
    },
    {
      "cell_type": "code",
      "metadata": {
        "id": "ZY6UO8e-QUTo"
      },
      "source": [
        "X_test_sample1,Y_test_sample1=ros.fit_resample(X_test,Y_test)"
      ],
      "execution_count": null,
      "outputs": []
    },
    {
      "cell_type": "code",
      "metadata": {
        "colab": {
          "base_uri": "https://localhost:8080/"
        },
        "id": "xapNiNyYQUb3",
        "outputId": "0bd80380-6fed-4347-efd2-c5b051367076"
      },
      "source": [
        "pd.Series(Y_train).value_counts()"
      ],
      "execution_count": null,
      "outputs": [
        {
          "output_type": "execute_result",
          "data": {
            "text/plain": [
              "0    199007\n",
              "1       357\n",
              "Name: Class, dtype: int64"
            ]
          },
          "metadata": {
            "tags": []
          },
          "execution_count": 38
        }
      ]
    },
    {
      "cell_type": "code",
      "metadata": {
        "colab": {
          "base_uri": "https://localhost:8080/"
        },
        "id": "n-O1LMffQUfg",
        "outputId": "6bac1f03-f725-4ad5-8150-aa820f47b5cc"
      },
      "source": [
        "pd.Series(Y_sample1).value_counts()"
      ],
      "execution_count": null,
      "outputs": [
        {
          "output_type": "execute_result",
          "data": {
            "text/plain": [
              "1    357\n",
              "0    357\n",
              "dtype: int64"
            ]
          },
          "metadata": {
            "tags": []
          },
          "execution_count": 39
        }
      ]
    },
    {
      "cell_type": "code",
      "metadata": {
        "colab": {
          "base_uri": "https://localhost:8080/"
        },
        "id": "aFVwIi04QUlv",
        "outputId": "5bde1f86-5e19-4622-c1a3-96cdbaf7b4d1"
      },
      "source": [
        "pd.Series(Y_test).value_counts()"
      ],
      "execution_count": null,
      "outputs": [
        {
          "output_type": "execute_result",
          "data": {
            "text/plain": [
              "0    85308\n",
              "1      135\n",
              "Name: Class, dtype: int64"
            ]
          },
          "metadata": {
            "tags": []
          },
          "execution_count": 40
        }
      ]
    },
    {
      "cell_type": "code",
      "metadata": {
        "colab": {
          "base_uri": "https://localhost:8080/"
        },
        "id": "2bi6rCTcQUpH",
        "outputId": "89129b08-887c-4dcb-8311-8d9c1a57659d"
      },
      "source": [
        "pd.Series(Y_test_sample1).value_counts()"
      ],
      "execution_count": null,
      "outputs": [
        {
          "output_type": "execute_result",
          "data": {
            "text/plain": [
              "1    135\n",
              "0    135\n",
              "dtype: int64"
            ]
          },
          "metadata": {
            "tags": []
          },
          "execution_count": 41
        }
      ]
    },
    {
      "cell_type": "code",
      "metadata": {
        "id": "RgJpiKWHQUtQ"
      },
      "source": [
        "def create_model1(model):\n",
        "  model.fit(X_sample1,Y_sample1)\n",
        "  Y_pred=model.predict(X_test_sample1)\n",
        "  print(classification_report(Y_pred,Y_test_sample1))\n",
        "  print(confusion_matrix(Y_pred,Y_test_sample1))\n",
        "  return model"
      ],
      "execution_count": null,
      "outputs": []
    },
    {
      "cell_type": "code",
      "metadata": {
        "id": "K_9BEVOiQUz4"
      },
      "source": [
        "lr1=LogisticRegression()"
      ],
      "execution_count": null,
      "outputs": []
    },
    {
      "cell_type": "code",
      "metadata": {
        "colab": {
          "base_uri": "https://localhost:8080/"
        },
        "id": "i5Y3HN1DTh_N",
        "outputId": "33603815-7226-4650-dc52-ff7ab780e120"
      },
      "source": [
        "lr1=create_model1(lr1)"
      ],
      "execution_count": null,
      "outputs": [
        {
          "output_type": "stream",
          "text": [
            "              precision    recall  f1-score   support\n",
            "\n",
            "           0       0.96      0.87      0.91       149\n",
            "           1       0.85      0.95      0.90       121\n",
            "\n",
            "    accuracy                           0.90       270\n",
            "   macro avg       0.90      0.91      0.90       270\n",
            "weighted avg       0.91      0.90      0.90       270\n",
            "\n",
            "[[129  20]\n",
            " [  6 115]]\n"
          ],
          "name": "stdout"
        }
      ]
    },
    {
      "cell_type": "code",
      "metadata": {
        "id": "42wPbY9cTiCP"
      },
      "source": [
        "from sklearn.tree import DecisionTreeClassifier"
      ],
      "execution_count": null,
      "outputs": []
    },
    {
      "cell_type": "code",
      "metadata": {
        "id": "G0JpVb-YTiFJ"
      },
      "source": [
        "dt=DecisionTreeClassifier()"
      ],
      "execution_count": null,
      "outputs": []
    },
    {
      "cell_type": "code",
      "metadata": {
        "colab": {
          "base_uri": "https://localhost:8080/"
        },
        "id": "FOvu_LPJTiHg",
        "outputId": "c9c881da-a3d1-4da3-d552-8e847c1803f7"
      },
      "source": [
        "dt=create_model1(dt)"
      ],
      "execution_count": null,
      "outputs": [
        {
          "output_type": "stream",
          "text": [
            "              precision    recall  f1-score   support\n",
            "\n",
            "           0       0.85      0.90      0.87       128\n",
            "           1       0.90      0.86      0.88       142\n",
            "\n",
            "    accuracy                           0.88       270\n",
            "   macro avg       0.88      0.88      0.88       270\n",
            "weighted avg       0.88      0.88      0.88       270\n",
            "\n",
            "[[115  13]\n",
            " [ 20 122]]\n"
          ],
          "name": "stdout"
        }
      ]
    },
    {
      "cell_type": "code",
      "metadata": {
        "id": "tauMioHMTiKU"
      },
      "source": [
        "dt1=DecisionTreeClassifier(max_depth=6)"
      ],
      "execution_count": null,
      "outputs": []
    },
    {
      "cell_type": "code",
      "metadata": {
        "colab": {
          "base_uri": "https://localhost:8080/"
        },
        "id": "WdRD4F3HTiM-",
        "outputId": "1859c920-db17-4f7e-9f61-abcd07b06686"
      },
      "source": [
        "dt1=create_model1(dt1)"
      ],
      "execution_count": null,
      "outputs": [
        {
          "output_type": "stream",
          "text": [
            "              precision    recall  f1-score   support\n",
            "\n",
            "           0       0.95      0.90      0.92       143\n",
            "           1       0.89      0.94      0.92       127\n",
            "\n",
            "    accuracy                           0.92       270\n",
            "   macro avg       0.92      0.92      0.92       270\n",
            "weighted avg       0.92      0.92      0.92       270\n",
            "\n",
            "[[128  15]\n",
            " [  7 120]]\n"
          ],
          "name": "stdout"
        }
      ]
    },
    {
      "cell_type": "code",
      "metadata": {
        "id": "jTuv2i7uU5R1"
      },
      "source": [
        "dt2=DecisionTreeClassifier(min_samples_leaf=50)"
      ],
      "execution_count": null,
      "outputs": []
    },
    {
      "cell_type": "code",
      "metadata": {
        "colab": {
          "base_uri": "https://localhost:8080/"
        },
        "id": "fS1h3lMtU5Y8",
        "outputId": "0d85093d-e7cb-406c-fee5-c815b573f706"
      },
      "source": [
        "dt2=create_model1(dt2)"
      ],
      "execution_count": null,
      "outputs": [
        {
          "output_type": "stream",
          "text": [
            "              precision    recall  f1-score   support\n",
            "\n",
            "           0       1.00      0.84      0.91       161\n",
            "           1       0.81      1.00      0.89       109\n",
            "\n",
            "    accuracy                           0.90       270\n",
            "   macro avg       0.90      0.92      0.90       270\n",
            "weighted avg       0.92      0.90      0.90       270\n",
            "\n",
            "[[135  26]\n",
            " [  0 109]]\n"
          ],
          "name": "stdout"
        }
      ]
    },
    {
      "cell_type": "code",
      "metadata": {
        "id": "cozyioN4U5bh"
      },
      "source": [
        "dt3=DecisionTreeClassifier(criterion='entropy',min_samples_leaf=50)"
      ],
      "execution_count": null,
      "outputs": []
    },
    {
      "cell_type": "code",
      "metadata": {
        "colab": {
          "base_uri": "https://localhost:8080/"
        },
        "id": "eGAeTObdU5en",
        "outputId": "998bfc88-a7a1-4df8-c227-f778356e542d"
      },
      "source": [
        "dt3=DecisionTreeClassifier(criterion='entropy',min_samples_leaf=50)"
      ],
      "execution_count": null,
      "outputs": [
        {
          "output_type": "stream",
          "text": [
            "              precision    recall  f1-score   support\n",
            "\n",
            "           0       1.00      0.83      0.91       162\n",
            "           1       0.80      1.00      0.89       108\n",
            "\n",
            "    accuracy                           0.90       270\n",
            "   macro avg       0.90      0.92      0.90       270\n",
            "weighted avg       0.92      0.90      0.90       270\n",
            "\n",
            "[[135  27]\n",
            " [  0 108]]\n"
          ],
          "name": "stdout"
        }
      ]
    },
    {
      "cell_type": "code",
      "metadata": {
        "id": "IKgtwg7YU5g3"
      },
      "source": [
        "#boosting\n",
        "from sklearn.ensemble import AdaBoostClassifier"
      ],
      "execution_count": null,
      "outputs": []
    },
    {
      "cell_type": "code",
      "metadata": {
        "id": "czPtoAIKU5jk"
      },
      "source": [
        "ada=AdaBoostClassifier(n_estimators=50)"
      ],
      "execution_count": null,
      "outputs": []
    },
    {
      "cell_type": "code",
      "metadata": {
        "colab": {
          "base_uri": "https://localhost:8080/"
        },
        "id": "3cvJhiJzU5nS",
        "outputId": "8c162fde-470a-4c25-9206-588a66d1a583"
      },
      "source": [
        "ada=create_model1(ada)"
      ],
      "execution_count": null,
      "outputs": [
        {
          "output_type": "stream",
          "text": [
            "              precision    recall  f1-score   support\n",
            "\n",
            "           0       0.96      0.90      0.93       144\n",
            "           1       0.90      0.96      0.93       126\n",
            "\n",
            "    accuracy                           0.93       270\n",
            "   macro avg       0.93      0.93      0.93       270\n",
            "weighted avg       0.93      0.93      0.93       270\n",
            "\n",
            "[[130  14]\n",
            " [  5 121]]\n"
          ],
          "name": "stdout"
        }
      ]
    },
    {
      "cell_type": "code",
      "metadata": {
        "id": "Jqoa29wrXFTw"
      },
      "source": [
        "from sklearn.ensemble import GradientBoostingClassifier"
      ],
      "execution_count": null,
      "outputs": []
    },
    {
      "cell_type": "code",
      "metadata": {
        "id": "SyHBC7GNXFWh"
      },
      "source": [
        "gbc=GradientBoostingClassifier(n_estimators=50)"
      ],
      "execution_count": null,
      "outputs": []
    },
    {
      "cell_type": "code",
      "metadata": {
        "colab": {
          "base_uri": "https://localhost:8080/"
        },
        "id": "NSO4HQmsXFaU",
        "outputId": "5146062d-ead4-4336-d270-528113ae6bf1"
      },
      "source": [
        "gbc=create_model1(gbc)"
      ],
      "execution_count": null,
      "outputs": [
        {
          "output_type": "stream",
          "text": [
            "              precision    recall  f1-score   support\n",
            "\n",
            "           0       0.98      0.89      0.93       148\n",
            "           1       0.88      0.98      0.93       122\n",
            "\n",
            "    accuracy                           0.93       270\n",
            "   macro avg       0.93      0.93      0.93       270\n",
            "weighted avg       0.93      0.93      0.93       270\n",
            "\n",
            "[[132  16]\n",
            " [  3 119]]\n"
          ],
          "name": "stdout"
        }
      ]
    },
    {
      "cell_type": "code",
      "metadata": {
        "id": "TMjPXg76XFda"
      },
      "source": [
        "from xgboost import XGBClassifier"
      ],
      "execution_count": null,
      "outputs": []
    },
    {
      "cell_type": "code",
      "metadata": {
        "id": "ZWScJM7tXFg6"
      },
      "source": [
        "xgb=XGBClassifier(n_estimators=50,reg_alpha=1)"
      ],
      "execution_count": null,
      "outputs": []
    },
    {
      "cell_type": "code",
      "metadata": {
        "colab": {
          "base_uri": "https://localhost:8080/"
        },
        "id": "qb3W3NefU5ps",
        "outputId": "f994c043-8128-4848-bc7d-5fc18ed2defc"
      },
      "source": [
        "xgb=create_model1(xgb)"
      ],
      "execution_count": null,
      "outputs": [
        {
          "output_type": "stream",
          "text": [
            "              precision    recall  f1-score   support\n",
            "\n",
            "           0       0.99      0.89      0.94       149\n",
            "           1       0.88      0.98      0.93       121\n",
            "\n",
            "    accuracy                           0.93       270\n",
            "   macro avg       0.93      0.94      0.93       270\n",
            "weighted avg       0.94      0.93      0.93       270\n",
            "\n",
            "[[133  16]\n",
            " [  2 119]]\n"
          ],
          "name": "stdout"
        }
      ]
    },
    {
      "cell_type": "code",
      "metadata": {
        "id": "b0R5xjHxY31S"
      },
      "source": [
        "#1. Bagging : call class BaggingClassifier\n",
        "from sklearn.ensemble import BaggingClassifier"
      ],
      "execution_count": null,
      "outputs": []
    },
    {
      "cell_type": "code",
      "metadata": {
        "id": "tkxI-q_iY37B"
      },
      "source": [
        "bc=BaggingClassifier(LogisticRegression(),n_estimators=10,max_samples=10,random_state=1)"
      ],
      "execution_count": null,
      "outputs": []
    },
    {
      "cell_type": "code",
      "metadata": {
        "colab": {
          "base_uri": "https://localhost:8080/"
        },
        "id": "X3zIzCYRY4AP",
        "outputId": "e7899bb3-5f03-4422-b00a-300802c8977d"
      },
      "source": [
        "#call function\n",
        "bc=create_model1(bc)"
      ],
      "execution_count": null,
      "outputs": [
        {
          "output_type": "stream",
          "text": [
            "              precision    recall  f1-score   support\n",
            "\n",
            "           0       1.00      0.81      0.89       167\n",
            "           1       0.76      1.00      0.87       103\n",
            "\n",
            "    accuracy                           0.88       270\n",
            "   macro avg       0.88      0.90      0.88       270\n",
            "weighted avg       0.91      0.88      0.88       270\n",
            "\n",
            "[[135  32]\n",
            " [  0 103]]\n"
          ],
          "name": "stdout"
        }
      ]
    },
    {
      "cell_type": "code",
      "metadata": {
        "id": "eZNLPgDCY4CU"
      },
      "source": [
        "#Pasting \n",
        "#create object of BaggingClassifier inbuilt class\n",
        "bc1=BaggingClassifier(LogisticRegression(),n_estimators=10,max_samples=10,random_state=1,\n",
        "                      bootstrap=False) #by default bootstrap parameter=True means use Bagging"
      ],
      "execution_count": null,
      "outputs": []
    },
    {
      "cell_type": "code",
      "metadata": {
        "colab": {
          "base_uri": "https://localhost:8080/"
        },
        "id": "S6oayhmCY4ET",
        "outputId": "05729ad9-7c51-48ce-c16d-29f06aa65179"
      },
      "source": [
        "#call function \n",
        "bc1=create_model1(bc1)"
      ],
      "execution_count": null,
      "outputs": [
        {
          "output_type": "stream",
          "text": [
            "              precision    recall  f1-score   support\n",
            "\n",
            "           0       1.00      0.83      0.91       162\n",
            "           1       0.80      1.00      0.89       108\n",
            "\n",
            "    accuracy                           0.90       270\n",
            "   macro avg       0.90      0.92      0.90       270\n",
            "weighted avg       0.92      0.90      0.90       270\n",
            "\n",
            "[[135  27]\n",
            " [  0 108]]\n"
          ],
          "name": "stdout"
        }
      ]
    },
    {
      "cell_type": "code",
      "metadata": {
        "id": "xxL3VXqcY4G3"
      },
      "source": [
        "from sklearn.ensemble import RandomForestClassifier"
      ],
      "execution_count": null,
      "outputs": []
    },
    {
      "cell_type": "code",
      "metadata": {
        "id": "Pa1y688nY4Jl"
      },
      "source": [
        "rf=RandomForestClassifier(n_estimators=10,max_features =10,random_state=1)"
      ],
      "execution_count": null,
      "outputs": []
    },
    {
      "cell_type": "code",
      "metadata": {
        "colab": {
          "base_uri": "https://localhost:8080/"
        },
        "id": "s5wpJrnjY4MK",
        "outputId": "9dc83188-ca29-4994-e2cb-3c229ecca650"
      },
      "source": [
        "#call function\n",
        "rf=create_model1(rf)"
      ],
      "execution_count": null,
      "outputs": [
        {
          "output_type": "stream",
          "text": [
            "              precision    recall  f1-score   support\n",
            "\n",
            "           0       0.99      0.88      0.93       152\n",
            "           1       0.86      0.98      0.92       118\n",
            "\n",
            "    accuracy                           0.92       270\n",
            "   macro avg       0.92      0.93      0.92       270\n",
            "weighted avg       0.93      0.92      0.92       270\n",
            "\n",
            "[[133  19]\n",
            " [  2 116]]\n"
          ],
          "name": "stdout"
        }
      ]
    },
    {
      "cell_type": "code",
      "metadata": {
        "id": "ac5rGYV9Y4O-"
      },
      "source": [
        "#supportVectorMachine\n",
        "#linear kernal function\n",
        "from sklearn.svm import LinearSVC"
      ],
      "execution_count": null,
      "outputs": []
    },
    {
      "cell_type": "code",
      "metadata": {
        "id": "0RcE2Za-df8t"
      },
      "source": [
        "#create object\n",
        "svc=LinearSVC(random_state=1)"
      ],
      "execution_count": null,
      "outputs": []
    },
    {
      "cell_type": "code",
      "metadata": {
        "colab": {
          "base_uri": "https://localhost:8080/"
        },
        "id": "JXLMTwSOdgDX",
        "outputId": "1a2caf4b-450f-40f6-dd3c-65620a41f830"
      },
      "source": [
        "svc=create_model1(svc)"
      ],
      "execution_count": null,
      "outputs": [
        {
          "output_type": "stream",
          "text": [
            "              precision    recall  f1-score   support\n",
            "\n",
            "           0       0.94      0.67      0.78       189\n",
            "           1       0.54      0.90      0.68        81\n",
            "\n",
            "    accuracy                           0.74       270\n",
            "   macro avg       0.74      0.79      0.73       270\n",
            "weighted avg       0.82      0.74      0.75       270\n",
            "\n",
            "[[127  62]\n",
            " [  8  73]]\n"
          ],
          "name": "stdout"
        }
      ]
    },
    {
      "cell_type": "code",
      "metadata": {
        "id": "ff7FznA6dgHv"
      },
      "source": [
        "#score not bad but try its better \n",
        "#Apply soft margin means add externally error on training time\n",
        "#create the object of inbuilt class LinearSVC  and passing parameter C for error\n",
        "#create object\n",
        "svc1=LinearSVC(random_state=1,C=0.5)#always error add < 1 and c is inbuild parameter which pass value=0.5(0to1)"
      ],
      "execution_count": null,
      "outputs": []
    },
    {
      "cell_type": "code",
      "metadata": {
        "colab": {
          "base_uri": "https://localhost:8080/"
        },
        "id": "jDKo3rYkIa3I",
        "outputId": "381cca92-c232-4f45-c7bf-93d15e764f32"
      },
      "source": [
        "svc1=create_model1(svc1)"
      ],
      "execution_count": null,
      "outputs": [
        {
          "output_type": "stream",
          "text": [
            "              precision    recall  f1-score   support\n",
            "\n",
            "           0       0.94      0.67      0.78       189\n",
            "           1       0.54      0.90      0.68        81\n",
            "\n",
            "    accuracy                           0.74       270\n",
            "   macro avg       0.74      0.79      0.73       270\n",
            "weighted avg       0.82      0.74      0.75       270\n",
            "\n",
            "[[127  62]\n",
            " [  8  73]]\n"
          ],
          "name": "stdout"
        }
      ]
    },
    {
      "cell_type": "code",
      "metadata": {
        "id": "YCm3_i4jIbFI"
      },
      "source": [
        "#polynomial kernal function of \n",
        "from sklearn.svm import SVC"
      ],
      "execution_count": null,
      "outputs": []
    },
    {
      "cell_type": "code",
      "metadata": {
        "id": "hmkzeZAQIbQN"
      },
      "source": [
        "poly_svc=SVC(random_state=1,kernel=\"poly\")"
      ],
      "execution_count": null,
      "outputs": []
    },
    {
      "cell_type": "code",
      "metadata": {
        "colab": {
          "base_uri": "https://localhost:8080/"
        },
        "id": "2XMzczAAIbVN",
        "outputId": "a865710a-8af8-497f-fea4-1dc9b5e03711"
      },
      "source": [
        "poly_svc=create_model1(poly_svc)"
      ],
      "execution_count": null,
      "outputs": [
        {
          "output_type": "stream",
          "text": [
            "              precision    recall  f1-score   support\n",
            "\n",
            "           0       0.35      0.56      0.43        84\n",
            "           1       0.73      0.53      0.61       186\n",
            "\n",
            "    accuracy                           0.54       270\n",
            "   macro avg       0.54      0.54      0.52       270\n",
            "weighted avg       0.61      0.54      0.55       270\n",
            "\n",
            "[[47 37]\n",
            " [88 98]]\n"
          ],
          "name": "stdout"
        }
      ]
    },
    {
      "cell_type": "code",
      "metadata": {
        "id": "yhc6qL2HIbbd"
      },
      "source": [
        "#apply anova\n",
        " #anova test\n",
        "from sklearn.feature_selection import f_regression\n",
        "from sklearn.feature_selection import SelectKBest\n"
      ],
      "execution_count": null,
      "outputs": []
    },
    {
      "cell_type": "code",
      "metadata": {
        "id": "MqBKgbMFMYDE"
      },
      "source": [
        "anova=SelectKBest(score_func=f_regression,k=2)"
      ],
      "execution_count": null,
      "outputs": []
    },
    {
      "cell_type": "code",
      "metadata": {
        "id": "QEIVHgdkMYOw"
      },
      "source": [
        "X_train_anova=anova.fit_transform(X_sample1,Y_sample1)"
      ],
      "execution_count": null,
      "outputs": []
    },
    {
      "cell_type": "code",
      "metadata": {
        "id": "s_w_dA-QMYQ5"
      },
      "source": [
        "X_test_anova=anova.transform(X_test_sample1)"
      ],
      "execution_count": null,
      "outputs": []
    },
    {
      "cell_type": "code",
      "metadata": {
        "colab": {
          "base_uri": "https://localhost:8080/"
        },
        "id": "NPM6Ra4yN3oE",
        "outputId": "515a39d3-bb4e-4eef-93a0-caaa42196dd6"
      },
      "source": [
        "anova.get_support()"
      ],
      "execution_count": null,
      "outputs": [
        {
          "output_type": "execute_result",
          "data": {
            "text/plain": [
              "array([False, False, False, False,  True, False, False, False, False,\n",
              "       False, False, False, False, False,  True, False, False, False,\n",
              "       False, False, False, False, False, False, False, False, False,\n",
              "       False, False, False])"
            ]
          },
          "metadata": {
            "tags": []
          },
          "execution_count": 113
        }
      ]
    },
    {
      "cell_type": "code",
      "metadata": {
        "id": "q1afjWaaN3rz"
      },
      "source": [
        "def create_model2(model):\n",
        "  model.fit(X_train_anova,Y_sample1)\n",
        "  Y_pred=model.predict(X_test_anova)\n",
        "  print(classification_report(Y_pred,Y_test_sample1))\n",
        "  print(confusion_matrix(Y_test_sample1,Y_pred))\n",
        "  return model"
      ],
      "execution_count": null,
      "outputs": []
    },
    {
      "cell_type": "code",
      "metadata": {
        "id": "FoyObm1oN3us"
      },
      "source": [
        "lr2=LogisticRegression()"
      ],
      "execution_count": null,
      "outputs": []
    },
    {
      "cell_type": "code",
      "metadata": {
        "colab": {
          "base_uri": "https://localhost:8080/"
        },
        "id": "mHzXFSDTN303",
        "outputId": "c69b3342-6613-467e-e8dc-81675fd476f7"
      },
      "source": [
        "lr2=create_model2(lr2)\n"
      ],
      "execution_count": null,
      "outputs": [
        {
          "output_type": "stream",
          "text": [
            "              precision    recall  f1-score   support\n",
            "\n",
            "           0       0.95      0.90      0.92       143\n",
            "           1       0.89      0.94      0.92       127\n",
            "\n",
            "    accuracy                           0.92       270\n",
            "   macro avg       0.92      0.92      0.92       270\n",
            "weighted avg       0.92      0.92      0.92       270\n",
            "\n",
            "[[128   7]\n",
            " [ 15 120]]\n"
          ],
          "name": "stdout"
        }
      ]
    },
    {
      "cell_type": "code",
      "metadata": {
        "colab": {
          "base_uri": "https://localhost:8080/"
        },
        "id": "KnIy2In1N342",
        "outputId": "499f7033-4ae3-45a5-e66d-1021d0ad9927"
      },
      "source": [
        "#apply chi2-test\n",
        "for col in X:\n",
        "    print(\"Column Name : \",col)\n",
        "    print(df[col].unique())"
      ],
      "execution_count": null,
      "outputs": [
        {
          "output_type": "stream",
          "text": [
            "Column Name :  Time\n",
            "[0.00000e+00 1.00000e+00 2.00000e+00 ... 1.72787e+05 1.72788e+05\n",
            " 1.72792e+05]\n",
            "Column Name :  V1\n",
            "[-1.35980713  1.19185711 -1.35835406 ...  1.91956501 -0.24044005\n",
            " -0.53341252]\n",
            "Column Name :  V2\n",
            "[-0.07278117  0.26615071 -1.34016307 ... -0.30125385  0.53048251\n",
            " -0.18973334]\n",
            "Column Name :  V3\n",
            "[ 2.53634674  0.16648011  1.77320934 ... -3.24963981  0.70251023\n",
            "  0.70333737]\n",
            "Column Name :  V4\n",
            "[ 1.37815522  0.44815408  0.37977959 ... -0.55782812  0.68979917\n",
            " -0.50627124]\n",
            "Column Name :  V5\n",
            "[-0.33832077  0.06001765 -0.50319813 ...  2.63051512 -0.37796113\n",
            " -0.01254568]\n",
            "Column Name :  V6\n",
            "[ 0.46238778 -0.08236081  1.80049938 ...  3.0312601   0.62370772\n",
            " -0.64961669]\n",
            "Column Name :  V7\n",
            "[ 0.23959855 -0.07880298  0.79146096 ... -0.29682653 -0.68617999\n",
            "  1.57700625]\n",
            "Column Name :  V8\n",
            "[ 0.0986979   0.08510165  0.24767579 ...  0.70841718  0.67914546\n",
            " -0.41465041]\n",
            "Column Name :  V9\n",
            "[ 0.36378697 -0.25542513 -1.51465432 ...  0.43245405  0.39208671\n",
            "  0.48617951]\n",
            "Column Name :  V10\n",
            "[ 0.09079417 -0.16697441  0.20764287 ... -0.48478176 -0.39912565\n",
            " -0.91542665]\n",
            "Column Name :  V11\n",
            "[-0.55159953  1.61272666  0.62450146 ...  0.41161374 -1.93384882\n",
            " -1.04045834]\n",
            "Column Name :  V12\n",
            "[-0.61780086  1.06523531  0.06608369 ...  0.06311886 -0.96288614\n",
            " -0.03151305]\n",
            "Column Name :  V13\n",
            "[-0.99138985  0.48909502  0.71729273 ... -0.18369869 -1.04208166\n",
            " -0.1880929 ]\n",
            "Column Name :  V14\n",
            "[-0.31116935 -0.1437723  -0.16594592 ... -0.51060184  0.44962444\n",
            " -0.08431647]\n",
            "Column Name :  V15\n",
            "[1.46817697 0.63555809 2.34586495 ... 1.32928351 1.96256312 0.04133346]\n",
            "Column Name :  V16\n",
            "[-0.47040053  0.46391704 -2.89008319 ...  0.14071598 -0.60857713\n",
            " -0.30262009]\n",
            "Column Name :  V17\n",
            "[ 0.20797124 -0.11480466  1.10996938 ...  0.31350179  0.50992846\n",
            " -0.66037665]\n",
            "Column Name :  V18\n",
            "[ 0.02579058 -0.18336127 -0.12135931 ...  0.39565248  1.11398059\n",
            "  0.16742993]\n",
            "Column Name :  V19\n",
            "[ 0.40399296 -0.14578304 -2.2618571  ... -0.57725184  2.89784877\n",
            " -0.25611687]\n",
            "Column Name :  V20\n",
            "[ 0.2514121  -0.06908314  0.52497973 ...  0.00139597  0.12743352\n",
            "  0.3829481 ]\n",
            "Column Name :  V21\n",
            "[-0.01830678 -0.22577525  0.24799815 ...  0.23204504  0.26524492\n",
            "  0.26105733]\n",
            "Column Name :  V22\n",
            "[ 0.27783758 -0.63867195  0.7716794  ...  0.57822901  0.80004874\n",
            "  0.64307844]\n",
            "Column Name :  V23\n",
            "[-0.11047391  0.10128802  0.90941226 ... -0.03750086 -0.16329794\n",
            "  0.37677701]\n",
            "Column Name :  V24\n",
            "[ 0.06692807 -0.33984648 -0.68928096 ...  0.64013388  0.12320524\n",
            "  0.00879738]\n",
            "Column Name :  V25\n",
            "[ 0.12853936  0.1671704  -0.32764183 ...  0.26574545 -0.56915886\n",
            " -0.4736487 ]\n",
            "Column Name :  V26\n",
            "[-0.18911484  0.12589453 -0.13909657 ... -0.0873706   0.54666846\n",
            " -0.81826712]\n",
            "Column Name :  V27\n",
            "[ 0.13355838 -0.0089831  -0.05535279 ...  0.00445477  0.10882073\n",
            " -0.00241531]\n",
            "Column Name :  V28\n",
            "[-0.02105305  0.01472417 -0.05975184 ... -0.02656083  0.10453282\n",
            "  0.01364891]\n",
            "Column Name :  Amount\n",
            "[149.62   2.69 378.66 ... 381.05 337.54  95.63]\n"
          ],
          "name": "stdout"
        }
      ]
    },
    {
      "cell_type": "code",
      "metadata": {
        "id": "oYjnyY7QIbf6"
      },
      "source": [
        "#here doesnot apply chi-2 beacuse negative value in given dataset"
      ],
      "execution_count": null,
      "outputs": []
    },
    {
      "cell_type": "code",
      "metadata": {
        "id": "7crHynMLIbny"
      },
      "source": [
        "#here apply PCA\n",
        "from sklearn.decomposition import PCA"
      ],
      "execution_count": null,
      "outputs": []
    },
    {
      "cell_type": "code",
      "metadata": {
        "id": "kPEZ2nvAUQOi"
      },
      "source": [
        "#Create object of PCA class\n",
        "pc=PCA(n_components=None,random_state=1)  \n",
        "#n_components  inbuilt parameters ,here  pass no. of components means PC here total input 13 features\n",
        "#input features"
      ],
      "execution_count": null,
      "outputs": []
    },
    {
      "cell_type": "code",
      "metadata": {
        "id": "Iyxms6lVUQSk"
      },
      "source": [
        "X_train_pc=pc.fit_transform(X_sample1) #for training\n",
        "X_test_pc=pc.transform(X_test_sample1) #for testing"
      ],
      "execution_count": null,
      "outputs": []
    },
    {
      "cell_type": "code",
      "metadata": {
        "colab": {
          "base_uri": "https://localhost:8080/"
        },
        "id": "sKyPLJR7UQVd",
        "outputId": "2cbffd35-9eeb-4f0c-8725-8fee3180d741"
      },
      "source": [
        "explain_variance=pc.explained_variance_ratio_\n",
        "print(explain_variance) #automatic arrange variance in descending order"
      ],
      "execution_count": null,
      "outputs": [
        {
          "output_type": "stream",
          "text": [
            "[9.99979143e-01 2.07199238e-05 9.04111232e-08 1.46407153e-08\n",
            " 1.12333736e-08 4.90741274e-09 4.72790146e-09 3.24257850e-09\n",
            " 9.94551660e-10 9.47813698e-10 7.58268711e-10 6.55601556e-10\n",
            " 5.93802244e-10 4.79040141e-10 4.55022743e-10 4.25640888e-10\n",
            " 4.14730973e-10 3.56499237e-10 3.36067757e-10 3.25697542e-10\n",
            " 2.42104504e-10 2.29331768e-10 2.13787685e-10 1.76493755e-10\n",
            " 1.50488889e-10 1.28144527e-10 1.03505248e-10 8.01672636e-11\n",
            " 7.38118579e-11 3.75397259e-11]\n"
          ],
          "name": "stdout"
        }
      ]
    },
    {
      "cell_type": "code",
      "metadata": {
        "id": "uNHHxycKUQXx"
      },
      "source": [
        "#Create object of PCA class\n",
        "pc1=PCA(n_components=15,random_state=1)  \n",
        "#n_components  inbuilt parameters ,here  pass no. of components =2 means PC here total input 13 features\n",
        "#input features"
      ],
      "execution_count": null,
      "outputs": []
    },
    {
      "cell_type": "code",
      "metadata": {
        "id": "GduuwpW8UQav"
      },
      "source": [
        "X_train_pc1=pc1.fit_transform(X_sample1) #for training\n",
        "X_test_pc1=pc1.transform(X_test_sample1) #for testing"
      ],
      "execution_count": null,
      "outputs": []
    },
    {
      "cell_type": "code",
      "metadata": {
        "colab": {
          "base_uri": "https://localhost:8080/"
        },
        "id": "Dc32s2_gUQdo",
        "outputId": "c0c26895-9dae-4626-f854-31e5518a2e03"
      },
      "source": [
        "explain_variance=pc1.explained_variance_ratio_\n",
        "print(explain_variance) #automatic arrange variancexplain_variance=pc1.explained_variance_ratio_\n",
        "print(explain_variance) #automatic arrange variance in descending ordere in descending order"
      ],
      "execution_count": null,
      "outputs": [
        {
          "output_type": "stream",
          "text": [
            "[9.99979143e-01 2.07199238e-05 9.04111232e-08 1.46407153e-08\n",
            " 1.12333736e-08 4.90741274e-09 4.72790146e-09 3.24257850e-09\n",
            " 9.94551637e-10 9.47813656e-10 7.58268606e-10 6.55601539e-10\n",
            " 5.93780549e-10 4.79028519e-10 4.55014919e-10]\n",
            "[9.99979143e-01 2.07199238e-05 9.04111232e-08 1.46407153e-08\n",
            " 1.12333736e-08 4.90741274e-09 4.72790146e-09 3.24257850e-09\n",
            " 9.94551637e-10 9.47813656e-10 7.58268606e-10 6.55601539e-10\n",
            " 5.93780549e-10 4.79028519e-10 4.55014919e-10]\n"
          ],
          "name": "stdout"
        }
      ]
    },
    {
      "cell_type": "code",
      "metadata": {
        "id": "j6egh7neUQhr"
      },
      "source": [
        "#BaseLine Model Logistic regression because we have  classification type dataset\n",
        "#classification algorithm \n",
        "#use logistic regression algorithm\n",
        "#create object\n",
        "lr3=LogisticRegression()"
      ],
      "execution_count": null,
      "outputs": []
    },
    {
      "cell_type": "code",
      "metadata": {
        "colab": {
          "base_uri": "https://localhost:8080/"
        },
        "id": "SlYSVf2WIbtZ",
        "outputId": "843a8f45-d515-40b2-8e80-b9467b498d86"
      },
      "source": [
        "#Train the model then inbuilt function fit() of LogisticRegression class\n",
        "lr.fit(X_train_pc1,Y_sample1)   #same as linearregression\n"
      ],
      "execution_count": null,
      "outputs": [
        {
          "output_type": "execute_result",
          "data": {
            "text/plain": [
              "LogisticRegression(C=1.0, class_weight=None, dual=False, fit_intercept=True,\n",
              "                   intercept_scaling=1, l1_ratio=None, max_iter=100,\n",
              "                   multi_class='auto', n_jobs=None, penalty='l2',\n",
              "                   random_state=None, solver='lbfgs', tol=0.0001, verbose=0,\n",
              "                   warm_start=False)"
            ]
          },
          "metadata": {
            "tags": []
          },
          "execution_count": 142
        }
      ]
    },
    {
      "cell_type": "code",
      "metadata": {
        "id": "xg5MEWC-Ibv_"
      },
      "source": [
        "#test the model\n",
        "Y_pred=lr.predict(X_test_pc1)"
      ],
      "execution_count": null,
      "outputs": []
    },
    {
      "cell_type": "code",
      "metadata": {
        "colab": {
          "base_uri": "https://localhost:8080/"
        },
        "id": "Nq6QfBZwIbyv",
        "outputId": "5c9acc8a-adc5-4b6d-94d5-e5ec5168d1b3"
      },
      "source": [
        "print(classification_report(Y_test_sample1,Y_pred))\n",
        "\n",
        "print(\"Confusion Matrix : \")\n",
        "#Confusion matrix\n",
        "print(confusion_matrix(Y_test_sample1,Y_pred))"
      ],
      "execution_count": null,
      "outputs": [
        {
          "output_type": "stream",
          "text": [
            "              precision    recall  f1-score   support\n",
            "\n",
            "           0       0.84      0.99      0.91       135\n",
            "           1       0.98      0.81      0.89       135\n",
            "\n",
            "    accuracy                           0.90       270\n",
            "   macro avg       0.91      0.90      0.90       270\n",
            "weighted avg       0.91      0.90      0.90       270\n",
            "\n",
            "Confusion Matrix : \n",
            "[[133   2]\n",
            " [ 25 110]]\n"
          ],
          "name": "stdout"
        }
      ]
    },
    {
      "cell_type": "code",
      "metadata": {
        "id": "HKMTlNEyYCpd"
      },
      "source": [
        "#here best score is 98%.using Extreme gradient boosting ensembling technique. Extreme Gradient Boosting(XGB) : - this is a gradient boost but this is better version of gradient\n",
        "#boost. XGB is similar work as GB. \n"
      ],
      "execution_count": null,
      "outputs": []
    }
  ]
}